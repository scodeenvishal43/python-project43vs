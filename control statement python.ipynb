{
 "cells": [
  {
   "cell_type": "code",
   "execution_count": null,
   "id": "e2971aa3",
   "metadata": {},
   "outputs": [],
   "source": [
    "# control statement :"
   ]
  },
  {
   "cell_type": "code",
   "execution_count": 1,
   "id": "75dfdef3",
   "metadata": {},
   "outputs": [
    {
     "name": "stdout",
     "output_type": "stream",
     "text": [
      "hello\n",
      "welcome\n",
      "byee\n"
     ]
    }
   ],
   "source": [
    "print(\"hello\")\n",
    "print(\"welcome\")\n",
    "print(\"byee\")"
   ]
  },
  {
   "cell_type": "code",
   "execution_count": null,
   "id": "16ab52f8",
   "metadata": {},
   "outputs": [],
   "source": [
    "flow control statements :\n",
    "    \n",
    "===========================\n",
    "\n",
    "simple if \n",
    "if-else\n",
    "if-else ladder\n",
    "nested if-else"
   ]
  },
  {
   "cell_type": "code",
   "execution_count": null,
   "id": "06ebc253",
   "metadata": {},
   "outputs": [],
   "source": [
    "1. simple if :\n",
    "    \n",
    "    we have single condition /one condition"
   ]
  },
  {
   "cell_type": "code",
   "execution_count": null,
   "id": "0b563b10",
   "metadata": {},
   "outputs": [],
   "source": [
    "if condition :\n",
    "    block of statements"
   ]
  },
  {
   "cell_type": "code",
   "execution_count": null,
   "id": "0207905c",
   "metadata": {},
   "outputs": [],
   "source": [
    "statement4\n",
    " if condition:\n",
    "        statemnet1\n",
    "        statement2\n",
    "        statement3"
   ]
  },
  {
   "cell_type": "code",
   "execution_count": 2,
   "id": "c0652829",
   "metadata": {},
   "outputs": [
    {
     "name": "stdout",
     "output_type": "stream",
     "text": [
      "1\n",
      "2\n",
      "3\n"
     ]
    }
   ],
   "source": [
    "print(\"1\")\n",
    "a = 10\n",
    "if a>5: #true\n",
    "    print(\"2\")\n",
    "    print(\"3\")"
   ]
  },
  {
   "cell_type": "code",
   "execution_count": null,
   "id": "40960d68",
   "metadata": {},
   "outputs": [],
   "source": [
    "if condition : #true\n",
    "    \n",
    "    statement1\n",
    "    statement2"
   ]
  },
  {
   "cell_type": "code",
   "execution_count": 7,
   "id": "93a3bd41",
   "metadata": {},
   "outputs": [
    {
     "name": "stdout",
     "output_type": "stream",
     "text": [
      "enter the withdraw amount:20000\n",
      "you can withdraw amount :: 20000\n",
      "thanks for banking with us\n"
     ]
    }
   ],
   "source": [
    "account_bal = 45000\n",
    "bal = int(input(\"enter the withdraw amount:\"))\n",
    "if account_bal> bal:\n",
    "    print(\"you can withdraw amount ::\",bal)\n",
    "    print(\"thanks for banking with us\")"
   ]
  },
  {
   "cell_type": "code",
   "execution_count": 8,
   "id": "16d0d11a",
   "metadata": {},
   "outputs": [
    {
     "name": "stdout",
     "output_type": "stream",
     "text": [
      "enter the withdraw amount:45000\n",
      "you can withdraw amount:: 45000\n",
      "thanks for banking with us\n"
     ]
    }
   ],
   "source": [
    "account_bal = 50000\n",
    "bal = int(input(\"enter the withdraw amount:\"))\n",
    "if account_bal> bal:\n",
    "    print(\"you can withdraw amount::\",bal)\n",
    "    print(\"thanks for banking with us\")"
   ]
  },
  {
   "cell_type": "code",
   "execution_count": 17,
   "id": "615bce4b",
   "metadata": {},
   "outputs": [
    {
     "name": "stdout",
     "output_type": "stream",
     "text": [
      "enter the age:85\n",
      "booster dose status[yes|no]:no\n",
      "please take booster dose on priority\n",
      "thanks for the checking\n"
     ]
    }
   ],
   "source": [
    "age = int(input(\"enter the age:\"))\n",
    "booster = (input(\"booster dose status[yes|no]:\"))\n",
    "if age>=75 and booster=='no':\n",
    "    print(\"please take booster dose on priority\")\n",
    "    print(\"thanks for the checking\")"
   ]
  },
  {
   "cell_type": "code",
   "execution_count": null,
   "id": "1e176b8c",
   "metadata": {},
   "outputs": [],
   "source": [
    "# if we have two condition opposite \n",
    "\n",
    "yes----no\n",
    "\n",
    "no----yes"
   ]
  },
  {
   "cell_type": "code",
   "execution_count": null,
   "id": "b18958a0",
   "metadata": {},
   "outputs": [],
   "source": [
    "if condition : #true /#false\n",
    "    block of code \n",
    "else:    #false / #true\n",
    "    block of code \n",
    "    "
   ]
  },
  {
   "cell_type": "code",
   "execution_count": 23,
   "id": "0c442f7c",
   "metadata": {},
   "outputs": [
    {
     "name": "stdout",
     "output_type": "stream",
     "text": [
      "enter the number:10\n",
      "given number : 10 is positive\n",
      "thank you\n"
     ]
    }
   ],
   "source": [
    "no = int(input(\"enter the number:\"))\n",
    "if no>=0:\n",
    "    print(f\"given number : {no} is positive\")\n",
    "else:\n",
    "    print(\"Given number : {} is negative\".format(no))\n",
    "    \n",
    "print(\"thank you\")\n"
   ]
  },
  {
   "cell_type": "code",
   "execution_count": null,
   "id": "972c84a1",
   "metadata": {},
   "outputs": [],
   "source": [
    "# take file from user and check whether it is an pdf or not "
   ]
  },
  {
   "cell_type": "code",
   "execution_count": 27,
   "id": "6c74232d",
   "metadata": {},
   "outputs": [
    {
     "name": "stdout",
     "output_type": "stream",
     "text": [
      "enter the filename:file.pdf\n",
      "given file is vaild pdf\n"
     ]
    }
   ],
   "source": [
    "filename = (input(\"enter the filename:\"))\n",
    "\n",
    "if filename.endswith('.pdf'):\n",
    "    print(\"given file is vaild pdf\")\n",
    "else:\n",
    "    print(\"invilad file :{}\".format(filename))"
   ]
  },
  {
   "cell_type": "code",
   "execution_count": null,
   "id": "54291114",
   "metadata": {},
   "outputs": [],
   "source": [
    "simple if \n",
    "if-else :is done."
   ]
  },
  {
   "cell_type": "code",
   "execution_count": null,
   "id": "7ea7ef72",
   "metadata": {},
   "outputs": [],
   "source": [
    "if-else ladder"
   ]
  },
  {
   "cell_type": "code",
   "execution_count": 30,
   "id": "fc71be69",
   "metadata": {},
   "outputs": [
    {
     "ename": "NameError",
     "evalue": "name 'condition1' is not defined",
     "output_type": "error",
     "traceback": [
      "\u001b[1;31m---------------------------------------------------------------------------\u001b[0m",
      "\u001b[1;31mNameError\u001b[0m                                 Traceback (most recent call last)",
      "Cell \u001b[1;32mIn[30], line 1\u001b[0m\n\u001b[1;32m----> 1\u001b[0m \u001b[38;5;28;01mif\u001b[39;00m condition1:\n\u001b[0;32m      2\u001b[0m     block\u001b[38;5;241m-\u001b[39m\u001b[38;5;241m1\u001b[39m\n\u001b[0;32m      3\u001b[0m \u001b[38;5;28;01melif\u001b[39;00m condition2:\n",
      "\u001b[1;31mNameError\u001b[0m: name 'condition1' is not defined"
     ]
    }
   ],
   "source": [
    "if condition1:\n",
    "    block-1\n",
    "elif condition2:\n",
    "    block-2\n",
    "elif condition3:\n",
    "    block-3\n",
    "elif condition4:\n",
    "    block-4\n",
    "      \n",
    "elif condition:\n",
    "    block-n\n",
    "else:\n",
    "    defualt\n",
    "print(\"rest of code\")\n"
   ]
  },
  {
   "cell_type": "code",
   "execution_count": null,
   "id": "3f9b2684",
   "metadata": {},
   "outputs": [],
   "source": [
    "requirement:\n",
    "    code--->\n",
    "    pdf--->pdf read \n",
    "    xlsx--->read\n",
    "    text--->read \n",
    "    log--->read\n",
    "    \n",
    "    invaild file"
   ]
  },
  {
   "cell_type": "code",
   "execution_count": 33,
   "id": "f64320be",
   "metadata": {},
   "outputs": [
    {
     "name": "stdout",
     "output_type": "stream",
     "text": [
      "enter the filename:vishal.pdf\n",
      "pdf file read logic\n",
      "rest of the code \n"
     ]
    }
   ],
   "source": [
    "filename = input(\"enter the filename:\")\n",
    "if filename.endswith(\".pdf\"):\n",
    "    print(\"pdf file read logic\")\n",
    "elif filename.endswith(\".xlsx\"):\n",
    "    print(\"excel file read logic\")\n",
    "elif filename.endswith(\".text\"):\n",
    "    print(\"text file read logic\")\n",
    "elif filename.endswith(\".log\"):\n",
    "    print(\"log file read logic\")\n",
    "else:\n",
    "    print(\"invaild file\")\n",
    "print(\"rest of the code \")"
   ]
  },
  {
   "cell_type": "code",
   "execution_count": null,
   "id": "079d6657",
   "metadata": {},
   "outputs": [],
   "source": [
    "# nested if else"
   ]
  },
  {
   "cell_type": "code",
   "execution_count": 34,
   "id": "6c2aec6b",
   "metadata": {},
   "outputs": [
    {
     "ename": "NameError",
     "evalue": "name 'condition' is not defined",
     "output_type": "error",
     "traceback": [
      "\u001b[1;31m---------------------------------------------------------------------------\u001b[0m",
      "\u001b[1;31mNameError\u001b[0m                                 Traceback (most recent call last)",
      "Cell \u001b[1;32mIn[34], line 1\u001b[0m\n\u001b[1;32m----> 1\u001b[0m \u001b[38;5;28;01mif\u001b[39;00m condition:\n\u001b[0;32m      2\u001b[0m     \u001b[38;5;28;01mif\u001b[39;00m condition:\n\u001b[0;32m      3\u001b[0m         block\n",
      "\u001b[1;31mNameError\u001b[0m: name 'condition' is not defined"
     ]
    }
   ],
   "source": [
    "if condition:\n",
    "    if condition:\n",
    "        block\n",
    "    else:\n",
    "        block\n",
    "         \n",
    "else:\n",
    "    if condition:\n",
    "        block\n",
    "    else:\n",
    "        block"
   ]
  },
  {
   "cell_type": "code",
   "execution_count": null,
   "id": "47427b42",
   "metadata": {},
   "outputs": [],
   "source": [
    "sal 50000 <\n",
    "city---urban---> 10%\n",
    "       rural---->5\n",
    "sal 75000 <\n",
    "city---urban---10%\n",
    "       rural---5"
   ]
  },
  {
   "cell_type": "code",
   "execution_count": 41,
   "id": "1e76589f",
   "metadata": {},
   "outputs": [
    {
     "name": "stdout",
     "output_type": "stream",
     "text": [
      "enter the sal:45000\n",
      "enter the city:pune\n",
      "gross sal: 45900.0\n"
     ]
    }
   ],
   "source": [
    "sal = int(input(\"enter the sal:\"))\n",
    "city = input(\"enter the city:\")\n",
    "if sal>50000 and sal<75000:\n",
    "    if city=='pune':\n",
    "        bns = (sal/100)*10\n",
    "        print(\"gross sal :{} and bouns :{}\".format(sal,bns))\n",
    "    else:\n",
    "            bns = (sal/100)*5\n",
    "            print(\"gross sal:\",sal+bns)\n",
    "elif sal>75000 and sal<=100000:\n",
    "    if city=='pune':\n",
    "        bns = (sal/100)*15\n",
    "        print(\"gross sal :\",sal+bns)\n",
    "    else:\n",
    "        bns = (sal/100)*10\n",
    "        print(\"gross sal:\",sal+bns)\n",
    "else:\n",
    "    bns = (sal/100)*2\n",
    "    print(\"gross sal:\",sal+bns)"
   ]
  },
  {
   "cell_type": "code",
   "execution_count": null,
   "id": "697c4439",
   "metadata": {},
   "outputs": [],
   "source": [
    "# note : else block never having condition"
   ]
  }
 ],
 "metadata": {
  "kernelspec": {
   "display_name": "Python 3 (ipykernel)",
   "language": "python",
   "name": "python3"
  },
  "language_info": {
   "codemirror_mode": {
    "name": "ipython",
    "version": 3
   },
   "file_extension": ".py",
   "mimetype": "text/x-python",
   "name": "python",
   "nbconvert_exporter": "python",
   "pygments_lexer": "ipython3",
   "version": "3.11.4"
  }
 },
 "nbformat": 4,
 "nbformat_minor": 5
}
